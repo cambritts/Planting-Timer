{
 "cells": [
  {
   "cell_type": "code",
   "execution_count": 8,
   "id": "f115b467",
   "metadata": {},
   "outputs": [],
   "source": [
    "from datetime import datetime"
   ]
  },
  {
   "cell_type": "code",
   "execution_count": 9,
   "id": "193381af",
   "metadata": {},
   "outputs": [],
   "source": [
    "plant_dates = {\n",
    "    \"Asparagus\": (\"03-01\", \"05-01\"),\n",
    "    \"Beans\": (\"04-01\", \"08-01\"),\n",
    "    \"Beets\": ((\"03-15\", \"04-15\"), (\"09-01\", \"10-01\")),\n",
    "    \"Broccoli\": ((\"02-15\", \"04-01\"), (\"06-01\", \"06-15\"), (\"09-01\", \"10-01\")),\n",
    "    \"Brussel Sprouts\": (\"08-01\", \"09-01\"),\n",
    "    \"Cabbage\": (\"03-15\", \"04-01\"),\n",
    "    \"Carrots\": (\"03-01\", \"04-01\"),\n",
    "    \"Cauliflower\": ((\"10-01\", \"11-01\"), (\"03-01\", \"04-01\")),\n",
    "    \"Celery\": ((\"02-01\", \"03-01\"), (\"10-01\", \"11-01\")),\n",
    "    \"Corn\": (\"05-01\", \"06-15\"),\n",
    "    \"Cucumbers\": (\"05-01\", \"08-01\"),\n",
    "    \"Edamame\": (\"04-15\", \"05-15\"),\n",
    "    \"Eggplant\": (\"06-15\", \"08-01\"),\n",
    "    \"Garlic\": (\"09-01\", \"11-01\"),\n",
    "    \"Kale\": ((\"01-01\", \"03-01\"), (\"08-01\", \"10-01\")),\n",
    "    \"Kohlrabi\": ((\"04-01\", \"05-01\"), (\"08-01\", \"10-01\")),\n",
    "    \"Lettuce\": (\"03-01\", \"04-15\"),\n",
    "    \"Okra\": (\"04-15\", \"07-15\"),\n",
    "    \"Onions\": (\"03-01\", \"05-01\"),\n",
    "    \"Parsnips\": (\"03-15\", \"04-01\"),\n",
    "    \"Peas\": (\"02-15\", \"04-15\"),\n",
    "    \"Bell Peppers\": (\"06-15\", \"08-01\"),\n",
    "    \"Potatoes\": (\"03-01\", \"06-01\"),\n",
    "    \"Pumpkins\": (\"06-01\", \"08-01\"),\n",
    "    \"Radishes\": (\"02-15\", \"05-01\"),\n",
    "    \"Rutabaga\": (\"07-01\", \"08-15\"),\n",
    "    \"Spinach\": ((\"03-01\", \"04-15\"), (\"09-01\", \"11-01\")),\n",
    "    \"Summer Squash\": (\"05-01\", \"06-15\"),\n",
    "    \"Winter Squash\": (\"08-15\", \"09-15\"),\n",
    "    \"Sweet Potatoes\": (\"05-01\", \"05-15\"),\n",
    "    \"Swiss Chard\": ((\"02-15\", \"03-15\"), (\"09-01\", \"10-01\")),\n",
    "    \"Tomatoes\": (\"06-15\", \"08-01\"),\n",
    "    \"Turnips\": ((\"02-15\", \"03-01\"), (\"09-01\", \"11-01\"))\n",
    "}\n",
    "\n",
    "def get_plant_dates(input_date):\n",
    "    plants=[]\n",
    "    input_date_conversion = datetime.strptime(input_date, \"%m-%d\")\n",
    "    \n",
    "    for plant, date_range in plant_dates.items():\n",
    "        if isinstance(date_range[0], str):\n",
    "            date_range = [date_range]\n",
    "            \n",
    "        for start_date, end_date in date_range:\n",
    "            start_date_conversion = datetime.strptime(start_date, \"%m-%d\")\n",
    "            end_date_conversion = datetime.strptime(end_date, \"%m-%d\")\n",
    "        \n",
    "            if start_date_conversion <= end_date_conversion: \n",
    "                if start_date_conversion <= input_date_conversion <= end_date_conversion:\n",
    "                    plants.append(plant)\n",
    "                    break\n",
    "            else:\n",
    "                if input_date_conversion >= start_date_conversion or input_date_conversion <= end_date_conversion:\n",
    "                    plants.append(plant)\n",
    "                    break\n",
    "    return plants"
   ]
  },
  {
   "cell_type": "code",
   "execution_count": 16,
   "id": "90ddc35e",
   "metadata": {},
   "outputs": [
    {
     "name": "stdout",
     "output_type": "stream",
     "text": [
      "Enter a date (MM-DD): 09-07\n"
     ]
    }
   ],
   "source": [
    "input_date = input(\"Enter a date (MM-DD): \")\n",
    "plants = get_plant_dates(input_date)"
   ]
  },
  {
   "cell_type": "code",
   "execution_count": 17,
   "id": "d18aa9f1",
   "metadata": {},
   "outputs": [
    {
     "name": "stdout",
     "output_type": "stream",
     "text": [
      "On 09-07, you can plant: Beets, Broccoli, Garlic, Kale, Kohlrabi, Spinach, Winter Squash, Swiss Chard, Turnips\n"
     ]
    }
   ],
   "source": [
    "if plants:\n",
    "    print(f\"On {input_date}, you can plant: {', '.join(plants)}\")\n",
    "else:\n",
    "    print(f\"Sorry, no plants can be planted on {input_date}.\")"
   ]
  }
 ],
 "metadata": {
  "kernelspec": {
   "display_name": "Python 3 (ipykernel)",
   "language": "python",
   "name": "python3"
  },
  "language_info": {
   "codemirror_mode": {
    "name": "ipython",
    "version": 3
   },
   "file_extension": ".py",
   "mimetype": "text/x-python",
   "name": "python",
   "nbconvert_exporter": "python",
   "pygments_lexer": "ipython3",
   "version": "3.11.7"
  }
 },
 "nbformat": 4,
 "nbformat_minor": 5
}
